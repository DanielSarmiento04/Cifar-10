{
 "cells": [
  {
   "cell_type": "code",
   "execution_count": 9,
   "metadata": {},
   "outputs": [],
   "source": [
    "import tensorflow as tf\n",
    "import cv2\n",
    "from matplotlib import pyplot as plt\n",
    "import numpy as np"
   ]
  },
  {
   "cell_type": "code",
   "execution_count": 2,
   "metadata": {},
   "outputs": [],
   "source": [
    "img = cv2.imread('./docs/test.jpg')"
   ]
  },
  {
   "cell_type": "code",
   "execution_count": 18,
   "metadata": {},
   "outputs": [],
   "source": [
    "class Cifar10:\n",
    "\n",
    "    def __init__(self):\n",
    "\n",
    "        self.model = tf.keras.models.load_model('cifar.h5')\n",
    "        self.classes = np.array([\n",
    "            'airplane', 'automobile', 'bird', 'cat', 'deer',\n",
    "            'dog', 'frog', 'horse', 'ship', 'truck'\n",
    "        ])\n",
    "\n",
    "\n",
    "    def preprocess_image(self, img:np.ndarray):\n",
    "        '''\n",
    "            Args:\n",
    "                img : np.ndarray shape (Any, Any, 3)\n",
    "        '''\n",
    "        img_manipulated = img.copy()\n",
    "        img_manipulated = cv2.resize(img_manipulated, (32, 32))\n",
    "        img_manipulated = img_manipulated / 255.0\n",
    "        return np.expand_dims(img_manipulated, axis=0)\n",
    "        \n",
    "\n",
    "    def posprocess_prediction(self, pred:np.ndarray):\n",
    "        '''\n",
    "            Args:\n",
    "                pred : np.ndarray shape (1, 10)\n",
    "        '''\n",
    "        pred = pred[0]\n",
    "        pred = np.argmax(pred)\n",
    "        return self.classes[pred]\n",
    "\n",
    "    def predict(self, img:np.ndarray):\n",
    "        '''\n",
    "            Args:\n",
    "                img : np.ndarray shape (Any, Any, 3)\n",
    "        '''\n",
    "        img_manipulated = self.preprocess_image(img)\n",
    "        pred = self.model.predict(img_manipulated)\n",
    "        pred = self.posprocess_prediction(pred)\n",
    "        return pred\n"
   ]
  },
  {
   "cell_type": "code",
   "execution_count": 20,
   "metadata": {},
   "outputs": [
    {
     "name": "stderr",
     "output_type": "stream",
     "text": [
      "WARNING:absl:At this time, the v2.11+ optimizer `tf.keras.optimizers.Adam` runs slowly on M1/M2 Macs, please use the legacy Keras optimizer instead, located at `tf.keras.optimizers.legacy.Adam`.\n",
      "WARNING:absl:There is a known slowdown when using v2.11+ Keras optimizers on M1/M2 Macs. Falling back to the legacy Keras optimizer, i.e., `tf.keras.optimizers.legacy.Adam`.\n"
     ]
    },
    {
     "name": "stdout",
     "output_type": "stream",
     "text": [
      "WARNING:tensorflow:Error in loading the saved optimizer state. As a result, your model is starting with a freshly initialized optimizer.\n"
     ]
    },
    {
     "name": "stderr",
     "output_type": "stream",
     "text": [
      "WARNING:tensorflow:Error in loading the saved optimizer state. As a result, your model is starting with a freshly initialized optimizer.\n"
     ]
    }
   ],
   "source": [
    "model = Cifar10()"
   ]
  },
  {
   "cell_type": "code",
   "execution_count": 22,
   "metadata": {},
   "outputs": [
    {
     "name": "stdout",
     "output_type": "stream",
     "text": [
      "1/1 [==============================] - 0s 39ms/step\n",
      "ship\n"
     ]
    }
   ],
   "source": [
    "results = model.predict(img)\n",
    "print(results)"
   ]
  },
  {
   "cell_type": "code",
   "execution_count": 25,
   "metadata": {},
   "outputs": [
    {
     "data": {
      "image/png": "[encoded data removed]",
      "text/plain": [
       "<Figure size 640x480 with 1 Axes>"
      ]
     },
     "metadata": {},
     "output_type": "display_data"
    }
   ],
   "source": [
    "plt.imshow(img)\n",
    "plt.title(f'Prediction: {results}')\n",
    "plt.axis(False)\n",
    "plt.show()"
   ]
  }
 ],
 "metadata": {
  "kernelspec": {
   "display_name": "classification",
   "language": "python",
   "name": "python3"
  },
  "language_info": {
   "codemirror_mode": {
    "name": "ipython",
    "version": 3
   },
   "file_extension": ".py",
   "mimetype": "text/x-python",
   "name": "python",
   "nbconvert_exporter": "python",
   "pygments_lexer": "ipython3",
   "version": "3.10.12"
  },
  "orig_nbformat": 4
 },
 "nbformat": 4,
 "nbformat_minor": 2
}
